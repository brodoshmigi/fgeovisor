{
 "cells": [
  {
   "cell_type": "markdown",
   "metadata": {},
   "source": [
    "!!! Документ только для чтения, хотя можно и запустить !!!"
   ]
  },
  {
   "cell_type": "markdown",
   "metadata": {},
   "source": [
    "# ЭТО БАЗА"
   ]
  },
  {
   "cell_type": "code",
   "execution_count": null,
   "metadata": {},
   "outputs": [],
   "source": [
    "import napi\n",
    "import napi_search"
   ]
  },
  {
   "cell_type": "markdown",
   "metadata": {},
   "source": [
    "### ISearch"
   ]
  },
  {
   "cell_type": "markdown",
   "metadata": {},
   "source": [
    "ISearch - это интерфейс высокого уровня. Через него организуется работа с основной частью кода посредством минимального количества затраченных усилий. Пока что он выполняет роль СТРОИТЕЛЯ (https://en.wikipedia.org/wiki/Builder_pattern), но когда-нибудь станет полноценным Singletone (https://en.wikipedia.org/wiki/Singleton_pattern)"
   ]
  },
  {
   "cell_type": "code",
   "execution_count": null,
   "metadata": {},
   "outputs": [],
   "source": [
    "base = napi_search.ISearch()"
   ]
  },
  {
   "cell_type": "markdown",
   "metadata": {},
   "source": [
    "### ISearch methods"
   ]
  },
  {
   "cell_type": "markdown",
   "metadata": {},
   "source": [
    "В распоряжении ISearch есть 3 метода, которые возвращают:\n",
    "1. Инструмент поиска коллекций\n",
    "2. Инструмент поиска ассетов в коллекциях\n",
    "3. Инструмент загрузки ассетов из облака(интернета)"
   ]
  },
  {
   "cell_type": "code",
   "execution_count": null,
   "metadata": {},
   "outputs": [],
   "source": [
    "example = {\n",
    "        'sat_names': ['landsat', 'hlsl', 'sentinel', 'hlss'],\n",
    "        'catalog_filter': ['USGS_LTA', 'LPDAAC_ECS', 'LPCLOUD', 'ESA']\n",
    "}\n",
    "\n",
    "api = base.search_collections(**example) # -> имеет параметры sat_names и catalog_filter\n",
    "\n",
    "api2 = base.search_items()\n",
    "\n",
    "api3 = base.loader()"
   ]
  },
  {
   "cell_type": "markdown",
   "metadata": {},
   "source": [
    "### ISearch -> search_collections()"
   ]
  },
  {
   "cell_type": "markdown",
   "metadata": {},
   "source": [
    "Search-collections используется для поиска коллекций, в которых содержатся данные о спутнках, которые нам нужны. Возвращает Dataframe из pandas, т.к. это производительнее и быстрее."
   ]
  },
  {
   "cell_type": "code",
   "execution_count": null,
   "metadata": {},
   "outputs": [],
   "source": [
    "example = {\n",
    "        'area': (42.171192, 45.04739, 42.18441, 45.053151),\n",
    "        'date': '2024-09/2024-11'\n",
    "}\n",
    "\n",
    "dt = api.get_org_catalogs(**example)\n",
    "# -> имеет параметры area и date\n",
    "# area - область интереса\n",
    "# date - временной промежуток: '2024-09/2024-11'.\n",
    "# можно указать весь период, указав конкретную дату, которую можно раскрыть: '2024' - весь год"
   ]
  },
  {
   "cell_type": "markdown",
   "metadata": {},
   "source": [
    "### ISearch -> search_items()"
   ]
  },
  {
   "cell_type": "markdown",
   "metadata": {},
   "source": [
    "Используем для получения ассетов из баз данных Nasa. Вообще у них это называется гранула, они, как уже понятно, хранятся в коллекциях. Мы соответственно, используя pystac_client, совершаем запросы и получаем полные данные.\n",
    "\n",
    "Важное примечание, это так просто, потому, что все данные, которые мы получаем, хранятся в формате JSON - благодаря STAC формату."
   ]
  },
  {
   "cell_type": "markdown",
   "metadata": {},
   "source": [
    "Соответственно, ассеты нам нужны, чтобы получать снимки в разных спектрах, так как своих у нас нет."
   ]
  },
  {
   "cell_type": "code",
   "execution_count": null,
   "metadata": {},
   "outputs": [],
   "source": [
    "example = {\n",
    "    'collection': dt, \n",
    "    'max_items': 3\n",
    "}\n",
    "\n",
    "dt2_1 = api2.get_assets(**example) # Имеет множество параметров, тупо соответствующих оригинальным из библиотеки pystac_client\n",
    "dt2_2 = api2.aget_assets() # Пока что не реализован, но это асинхронная версия get"
   ]
  },
  {
   "cell_type": "markdown",
   "metadata": {},
   "source": [
    "Планируется реализовать асинхронность, так как при увеличении количества собираемых данных время, которое требуется равно O(2n). Так же потребляется и большое количество памяти. Привет, Python!\n",
    "\n",
    "_P.S. А может просто кто-то не умеет им пользоваться..._"
   ]
  },
  {
   "cell_type": "markdown",
   "metadata": {},
   "source": [
    "### ISearch -> loader"
   ]
  },
  {
   "cell_type": "markdown",
   "metadata": {},
   "source": [
    "Класс, который реализует и поддерживает логику скачивания снимков из облака или из любой другой точки интернета. Главное двоичные content в ваших ха-ха response.\n",
    "\n",
    "_P.S. Может использовать и ссылку, но эта магия уже из разряда храброго и капризного gdal_"
   ]
  },
  {
   "cell_type": "code",
   "execution_count": null,
   "metadata": {},
   "outputs": [],
   "source": [
    "print(api3.download()) # -> параметры url, name"
   ]
  },
  {
   "cell_type": "markdown",
   "metadata": {},
   "source": [
    "Но остановимся на самом сладком.\n",
    "\n",
    "Для того, чтобы обратиться и скачать чего-то откуда-то оттуда нам нужно авторизоваться. Эту логику релизуется модуль napi"
   ]
  },
  {
   "cell_type": "code",
   "execution_count": null,
   "metadata": {},
   "outputs": [],
   "source": [
    "config = napi.NasaAPIConfig('username', 'password')\n",
    "client = napi.NasaAPIBase(config=config)\n",
    "\n",
    "api3 = base.loader(base=client)\n",
    "\n",
    "print(api3.download()) # -> Синхронная версия\n",
    "#print(api3.adownload()) Ассинхронная версия (Пока не реализовано)"
   ]
  },
  {
   "cell_type": "markdown",
   "metadata": {},
   "source": [
    "В приницпе, заботиться о том, что и как авторизуется на высоком уровне не требуется. Поэтому для деталей читайте следующий раздел."
   ]
  },
  {
   "cell_type": "markdown",
   "metadata": {},
   "source": [
    "_P.S. Да, можно было сделать и более высокий уровень (ха-ха куда еще выше...), чтобы создавать client в одну строчку, но пока что и так сойдет_"
   ]
  },
  {
   "cell_type": "markdown",
   "metadata": {},
   "source": [
    "# Napi"
   ]
  },
  {
   "cell_type": "markdown",
   "metadata": {},
   "source": [
    "Представляем вашему вниманию еще один builder pattern..."
   ]
  },
  {
   "cell_type": "code",
   "execution_count": null,
   "metadata": {},
   "outputs": [],
   "source": [
    "api = napi.NasaAPIBase() # -> Нужен конфиг для полного функционирования config.\n",
    "\n",
    "api.request() # -> NasaAPICall\n",
    "\n",
    "api.session() # -> NasaSessionAPI"
   ]
  },
  {
   "cell_type": "markdown",
   "metadata": {},
   "source": [
    "Как можно заметить, мы можем вызвать либо одиночный запрос, либо открыть сессию. Да, только это работает исключительно с Nasa и пока, только исключительно с lpdaac."
   ]
  },
  {
   "cell_type": "markdown",
   "metadata": {},
   "source": [
    "Работа этого модуля построена на том, что NasaAPIBase, являясь высоко уровневым интерфейсом, вызывает интерфейсы, который уже открывают двери к всем возможностям, что мы предусмотрели."
   ]
  },
  {
   "cell_type": "code",
   "execution_count": null,
   "metadata": {},
   "outputs": [],
   "source": [
    "api.request().get_oauth_profile()\n",
    "\n",
    "api.request().get_oauth_token()\n",
    "\n",
    "api.request().get_user_id()"
   ]
  },
  {
   "cell_type": "code",
   "execution_count": null,
   "metadata": {},
   "outputs": [],
   "source": [
    "api.session()\n",
    "\n",
    "api.session().create_session()\n",
    "\n",
    "api.session().get_session()\n",
    "\n",
    "api.session().close_session()"
   ]
  },
  {
   "cell_type": "markdown",
   "metadata": {},
   "source": [
    "Reqeust - stateless, session - statefull"
   ]
  },
  {
   "cell_type": "markdown",
   "metadata": {},
   "source": [
    "Так же, есть AuthManager, реализующий strategy (https://en.wikipedia.org/wiki/Strategy_pattern). Его работа более предсказуема, и особо не автономна.\n",
    "\n",
    "Используется, для того, чтобы выбирать способ/метод авторизации. API Nasa имеет разные способы авторизации, как в принципе, и разные сайты для доступа к данным: dev и без dev."
   ]
  }
 ],
 "metadata": {
  "kernelspec": {
   "display_name": "geodjrep_venv",
   "language": "python",
   "name": "python3"
  },
  "language_info": {
   "name": "python",
   "version": "3.12.2"
  }
 },
 "nbformat": 4,
 "nbformat_minor": 2
}
